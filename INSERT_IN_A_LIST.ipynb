{
 "cells": [
  {
   "cell_type": "markdown",
   "id": "10cac1ac-59eb-415a-9032-157a488a30f6",
   "metadata": {},
   "source": [
    "PROGRAM THAT INSERTS A PARTICULAR ELEMENT IN A LIST\n",
    "-"
   ]
  },
  {
   "cell_type": "code",
   "execution_count": 3,
   "id": "835c1a45-0e72-46f5-af26-37c273e25569",
   "metadata": {},
   "outputs": [
    {
     "name": "stdin",
     "output_type": "stream",
     "text": [
      "ENTER ELEMENTS IN A LIST : 3 5 7 2\n",
      "ENTER AN ELEMENT : 6\n",
      "ENTER POSITION : 2\n"
     ]
    },
    {
     "name": "stdout",
     "output_type": "stream",
     "text": [
      "[3, 5, 6, 7, 2]\n"
     ]
    }
   ],
   "source": [
    "a=list(map(int,input(\"ENTER ELEMENTS IN A LIST :\").split()))\n",
    "b=int(input(\"ENTER AN ELEMENT :\"))\n",
    "c=int(input(\"ENTER POSITION :\"))\n",
    "a.insert(c,b)\n",
    "print(a)"
   ]
  }
 ],
 "metadata": {
  "kernelspec": {
   "display_name": "Python 3 (ipykernel)",
   "language": "python",
   "name": "python3"
  },
  "language_info": {
   "codemirror_mode": {
    "name": "ipython",
    "version": 3
   },
   "file_extension": ".py",
   "mimetype": "text/x-python",
   "name": "python",
   "nbconvert_exporter": "python",
   "pygments_lexer": "ipython3",
   "version": "3.12.4"
  }
 },
 "nbformat": 4,
 "nbformat_minor": 5
}
