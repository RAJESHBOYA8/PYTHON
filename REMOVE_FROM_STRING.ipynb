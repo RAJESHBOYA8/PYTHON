{
 "cells": [
  {
   "cell_type": "markdown",
   "id": "10cac1ac-59eb-415a-9032-157a488a30f6",
   "metadata": {},
   "source": [
    "TO REMOVE A WORD FROM A STRING\n",
    "-"
   ]
  },
  {
   "cell_type": "code",
   "execution_count": 8,
   "id": "835c1a45-0e72-46f5-af26-37c273e25569",
   "metadata": {},
   "outputs": [
    {
     "name": "stdin",
     "output_type": "stream",
     "text": [
      "ENTER A STRING : rajesh loves to code\n",
      "ENTER A WORD TO REMOVE : to\n"
     ]
    },
    {
     "name": "stdout",
     "output_type": "stream",
     "text": [
      "rajesh loves  code\n"
     ]
    }
   ],
   "source": [
    "b=input(\"ENTER A STRING :\")\n",
    "a=input(\"ENTER A WORD TO REMOVE :\")\n",
    "print(b.replace(a,\"\"))"
   ]
  }
 ],
 "metadata": {
  "kernelspec": {
   "display_name": "Python 3 (ipykernel)",
   "language": "python",
   "name": "python3"
  },
  "language_info": {
   "codemirror_mode": {
    "name": "ipython",
    "version": 3
   },
   "file_extension": ".py",
   "mimetype": "text/x-python",
   "name": "python",
   "nbconvert_exporter": "python",
   "pygments_lexer": "ipython3",
   "version": "3.12.4"
  }
 },
 "nbformat": 4,
 "nbformat_minor": 5
}
